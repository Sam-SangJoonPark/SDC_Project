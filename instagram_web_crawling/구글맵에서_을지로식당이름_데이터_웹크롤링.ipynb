{
 "cells": [
  {
   "cell_type": "code",
   "execution_count": 1,
   "metadata": {},
   "outputs": [],
   "source": [
    "from selenium import webdriver\n",
    "from selenium.webdriver.common.keys import Keys\n",
    "from selenium.webdriver.common.action_chains import ActionChains\n",
    "import re\n",
    "import pandas as pd"
   ]
  },
  {
   "cell_type": "code",
   "execution_count": 2,
   "metadata": {},
   "outputs": [],
   "source": [
    "# 구글맵에서 을지로3가 식당이라는 키워드로 검색한 페이지를 url로 가져온다\n",
    "url = \"https://www.google.com/maps/search/%EC%9D%84%EC%A7%80%EB%A1%9C3%EA%B0%80+%EC%8B%9D%EB%8B%B9/@37.5662637,126.9902297,17z/data=!3m1!4b1!4m2!2m1!6e5?hl=ko\"\n",
    "driver = webdriver.Chrome()\n",
    "driver.get(url)"
   ]
  },
  {
   "cell_type": "code",
   "execution_count": 3,
   "metadata": {},
   "outputs": [],
   "source": [
    "# 식당이름과 정보가 나와있는 박스를 선택하여 elem 이라는 변수에 저장한다.\n",
    "elem = driver.find_element_by_xpath(\"\"\"//*[@id=\"pane\"]/div/div[1]/div\"\"\")"
   ]
  },
  {
   "cell_type": "code",
   "execution_count": 4,
   "metadata": {},
   "outputs": [
    {
     "data": {
      "text/plain": [
       "<selenium.webdriver.remote.webelement.WebElement (session=\"10466fbfcb96546a1d3996bd13fff5dd\", element=\"96fba2be-47fc-447b-84c6-e87e3aad93e1\")>"
      ]
     },
     "execution_count": 4,
     "metadata": {},
     "output_type": "execute_result"
    }
   ],
   "source": [
    "elem"
   ]
  },
  {
   "cell_type": "code",
   "execution_count": 5,
   "metadata": {
    "scrolled": false
   },
   "outputs": [
    {
     "name": "stdout",
     "output_type": "stream",
     "text": [
      "을지식당\n",
      "은성장\n",
      "세진식당\n",
      "을지오뎅\n",
      "조선옥\n",
      "동원집\n",
      "통일집\n",
      "골목식당\n",
      "양미옥\n",
      "청와옥 을지로3가직영점\n",
      "삼곱식당 을지로점\n",
      "을지면옥\n",
      "을지수제비\n",
      "오구반점\n",
      "산수갑산\n",
      "원조녹두\n",
      "을지육점\n",
      "이모네 영양돌솥\n",
      "을지로 양대장\n",
      "취향로3가 (Bar Chroad3)\n",
      "다음페이지로 가세요\n"
     ]
    }
   ],
   "source": [
    "# 각 식당이름을 가져오려고 하는데, 일괄된 코드로 가져올 수 없어서 이렇게 div[%s]해서 가져옴\n",
    "# div[3], div[5], div[7] ... 이런식으로 바꾸어주어야 가져올 수 있음\n",
    "# while문을 쓴 이유는 해당 페이지에 음식점이 몇 개인지 모르기 때문에 for문으로 범위를 지정할 수 없었음.\n",
    "# 또한 첫번째 xpath는 박스 안에 있는 내용을 전부 가져오고, 그 밑 부분에 식당 이름만 나온 부분을 지정하여 xpath로 또가져옴.\n",
    "# 이 과정에서 식당이름만 나오는 두 번째 data 선언 부분도 계속해서 div[5], div[7]등으로 바뀌어가며 찾아와야함. 위 첫번째 data의 i와 같음.\n",
    "i = 1\n",
    "while True : \n",
    "    try :\n",
    "        data = elem.find_element_by_xpath(\"\"\"//*[@id=\"pane\"]/div/div[1]/div/div/div[4]/div[1]/div[%s]\"\"\" %(i))\n",
    "        data = elem.find_element_by_xpath('//*[@id=\"pane\"]/div/div[1]/div/div/div[4]/div[1]/div[%s]/div[1]/div[1]/div[1]/div[1]/div[2]/h3/span' %(i))\n",
    "        print(data.text)\n",
    "        i += 2\n",
    "    except :\n",
    "        print('다음페이지로 가세요')\n",
    "        break"
   ]
  },
  {
   "cell_type": "code",
   "execution_count": null,
   "metadata": {},
   "outputs": [],
   "source": []
  }
 ],
 "metadata": {
  "kernelspec": {
   "display_name": "Python 3",
   "language": "python",
   "name": "python3"
  },
  "language_info": {
   "codemirror_mode": {
    "name": "ipython",
    "version": 3
   },
   "file_extension": ".py",
   "mimetype": "text/x-python",
   "name": "python",
   "nbconvert_exporter": "python",
   "pygments_lexer": "ipython3",
   "version": "3.7.7"
  }
 },
 "nbformat": 4,
 "nbformat_minor": 4
}
