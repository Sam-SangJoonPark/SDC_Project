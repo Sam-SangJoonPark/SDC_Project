{
 "cells": [
  {
   "cell_type": "code",
   "execution_count": 1,
   "metadata": {},
   "outputs": [],
   "source": [
    "import requests\n",
    "from selenium import webdriver as wd \n",
    "import time\n",
    "import re\n",
    "\n",
    "keyword = \"힙지로\"\n",
    "url = \"https://www.instagram.com/explore/tags/{}/\".format(keyword)\n",
    "instagram_tags = []\n",
    "driver = wd.Chrome()\n",
    "driver.get(url)\n",
    "\n",
    "time.sleep(3)"
   ]
  },
  {
   "cell_type": "code",
   "execution_count": null,
   "metadata": {},
   "outputs": [],
   "source": [
    "driver.find_element_by_css_selector('div._9AhH0').click()\n",
    "for z in range(5):\n",
    "    try :\n",
    "        time.sleep(1)\n",
    "\n",
    "        data = driver.find_element_by_css_selector('.C7I1f.X7jCj') \n",
    "        print(data.text)\n",
    "        tag_raw = data.text\n",
    "        print(' tag_raw = ', tag_raw , 'tag_raw')\n",
    "        tags = re.findall('#[A-Za-z0-9가-힣]+', tag_raw)\n",
    "        print('tags ',tags, 'tags!!!')\n",
    "        tag = ''.join(tags).replace(\"#\",\" \") # \"#\" 제거\n",
    "        print('tag!!', tag, '**')\n",
    "        tag_data = tag.split()\n",
    "        print('tag_data!!',tag_data, 'tag_data!!')\n",
    "\n",
    "        for tag_one in tag_data:\n",
    "\n",
    "            instagram_tags.append(tag_one)\n",
    "        print('****',instagram_tags,'insta')\n",
    "\n",
    "\n",
    "        time.sleep(3)\n",
    "\n",
    "    except :\n",
    "        pass\n",
    "    \n",
    "    driver.find_element_by_css_selector('a._65Bje.coreSpriteRightPaginationArrow').click()\n"
   ]
  }
 ],
 "metadata": {
  "kernelspec": {
   "display_name": "Python 3",
   "language": "python",
   "name": "python3"
  },
  "language_info": {
   "codemirror_mode": {
    "name": "ipython",
    "version": 3
   },
   "file_extension": ".py",
   "mimetype": "text/x-python",
   "name": "python",
   "nbconvert_exporter": "python",
   "pygments_lexer": "ipython3",
   "version": "3.7.7"
  }
 },
 "nbformat": 4,
 "nbformat_minor": 4
}
